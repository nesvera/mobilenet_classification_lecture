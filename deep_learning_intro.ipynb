{
 "cells": [
  {
   "cell_type": "markdown",
   "metadata": {},
   "source": [
    "## Shallow neural network - 1 layer\n",
    "\n",
    "<img src=\"https://miro.medium.com/max/651/1*UA30b0mJUPYoPvN8yJr2iQ.jpeg\" height=\"400\" />\n",
    "Figure x. Pooling layer (from https://towardsdatascience.com/first-neural-network-for-beginners-explained-with-code-4cfd37e06eaf )\n",
    "\n",
    "<img src=\"https://miro.medium.com/max/1192/1*4ZEDRpFuCIpUjNgjDdT2Lg.png\" height=\"400\" width=\"700\" />\n",
    "Figure x. Activation functions (from https://towardsdatascience.com/complete-guide-of-activation-functions-34076e95d044 )\n",
    "\n",
    "### Example\n",
    "\n",
    "<img src=\"https://victorzhou.com/perceptron-a74a19dc0599aae11df7493c718abaf9.svg\" height=\"400\" width=\"700\" />\n",
    "Figure x. Activation functions (from https://victorzhou.com/blog/intro-to-neural-networks/ )\n",
    "\n",
    "Steps:\n",
    "1. First the inputs are multiplied by learneble weights (red boxes)\n",
    "\n",
    "$$x1 * w1$$\n",
    "$$x2 * w2$$\n",
    "\n",
    "2. Sum the result of the multiplications and a bias (green box)\n",
    "\n",
    "$$(x1 * w1) + (x2 * w2) + b$$\n",
    "\n",
    "3. The output is generated applying a activation function to the result of the last sum\n",
    "\n",
    "$$y = f((x1 * w1) + (x2 * w2) + b)$$\n"
   ]
  },
  {
   "cell_type": "markdown",
   "metadata": {},
   "source": [
    "### Interesting links to learn more\n",
    "\n",
    "Deeplearning.ai https://www.youtube.com/channel/UCcIXc5mJsHVYTZR1maL5l9w\n",
    "\n"
   ]
  },
  {
   "cell_type": "markdown",
   "metadata": {},
   "source": []
  }
 ],
 "metadata": {
  "kernelspec": {
   "display_name": "Python 3",
   "language": "python",
   "name": "python3"
  },
  "language_info": {
   "codemirror_mode": {
    "name": "ipython",
    "version": 3
   },
   "file_extension": ".py",
   "mimetype": "text/x-python",
   "name": "python",
   "nbconvert_exporter": "python",
   "pygments_lexer": "ipython3",
   "version": "3.6.8"
  }
 },
 "nbformat": 4,
 "nbformat_minor": 2
}
